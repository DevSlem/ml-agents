{
  "cells": [
    {
      "cell_type": "code",
      "execution_count": 1,
      "metadata": {
        "id": "y3n-4E2ey0gd"
      },
      "outputs": [],
      "source": [
        "%matplotlib inline"
      ]
    },
    {
      "cell_type": "markdown",
      "metadata": {
        "id": "YtOIyIV3y0gf"
      },
      "source": [
        "# Double DDQN을 활용한 CartPole 환경 학습\n",
        "\n",
        "[OpenAI Gym](https://gym.openai.com/)의 CartPole-v1 태스크에서 Double DQN (Deep Q Learning) 에이전트를 학습한다.  \n",
        "사용된 코드의 출처는 [PyTorch - 강화 학습 (DQN) 튜토리얼](https://tutorials.pytorch.kr/intermediate/reinforcement_q_learning.html)이며 여기서 사용된 DQN 모델을 Double DDQN 모델로 수정하였다."
      ]
    },
    {
      "cell_type": "code",
      "execution_count": 2,
      "metadata": {
        "id": "A37U9kzWy0gg"
      },
      "outputs": [
        {
          "name": "stdout",
          "output_type": "stream",
          "text": [
            "cuda:0\n"
          ]
        },
        {
          "name": "stderr",
          "output_type": "stream",
          "text": [
            "c:\\Users\\slem1\\anaconda3\\envs\\ml-agents-release19\\lib\\site-packages\\gym\\utils\\passive_env_checker.py:98: UserWarning: \u001b[33mWARN: We recommend you to use a symmetric and normalized Box action space (range=[-1, 1]) https://stable-baselines3.readthedocs.io/en/master/guide/rl_tips.html\u001b[0m\n",
            "  \"We recommend you to use a symmetric and normalized Box action space (range=[-1, 1]) \"\n"
          ]
        }
      ],
      "source": [
        "import gym\n",
        "import math\n",
        "import random\n",
        "import numpy as np\n",
        "import matplotlib\n",
        "import matplotlib.pyplot as plt\n",
        "from collections import namedtuple, deque\n",
        "from itertools import count\n",
        "from PIL import Image\n",
        "\n",
        "import torch\n",
        "import torch.nn as nn\n",
        "import torch.optim as optim\n",
        "import torch.nn.functional as F\n",
        "import torchvision.transforms as T\n",
        "\n",
        "\n",
        "env = gym.make('CartPole-v1').unwrapped\n",
        "\n",
        "# matplotlib 설정\n",
        "is_ipython = 'inline' in matplotlib.get_backend()\n",
        "if is_ipython:\n",
        "    from IPython import display\n",
        "\n",
        "plt.ion()\n",
        "\n",
        "# GPU를 사용할 경우\n",
        "device = torch.device(\"cuda:0\" if torch.cuda.is_available() else \"cpu\")\n",
        "print(device)"
      ]
    },
    {
      "cell_type": "markdown",
      "metadata": {
        "id": "HUlOhmidy0gh"
      },
      "source": [
        "## Replay Buffer\n",
        "\n",
        "DQN 학습을 위해 Replay Buffer를 사용한다. 에이전트가 관찰한 transition들을 저장해 놓고 무작위 샘플링을 통해 재사용함으로써 transition들을 decorrelated하게 만들어 학습을 안정시킨다.\n",
        "\n",
        "이를 위해서 두개의 클래스 정의:\n",
        "\n",
        "*  `Transition` - $S_t$에서 $S_{t+1}$로의 전환을 나타내는 tuple\n",
        "*  `ReplayBuffer` - 최근 관찰된 transition들을 보관하는 제한된 크기의 순환 버퍼.\n",
        "   또한 학습을 위한 transition의 무작위 샘플링 기능을 제공."
      ]
    },
    {
      "cell_type": "code",
      "execution_count": 3,
      "metadata": {
        "id": "Eb17whZHy0gh"
      },
      "outputs": [],
      "source": [
        "Transition = namedtuple('Transition',\n",
        "                        ('state', 'action', 'next_state', 'reward'))\n",
        "\n",
        "\n",
        "class ReplayBuffer(object):\n",
        "\n",
        "    def __init__(self, capacity):\n",
        "        self.memory = deque([],maxlen=capacity)\n",
        "\n",
        "    def push(self, *args):\n",
        "        \"\"\"transition 저장\"\"\"\n",
        "        self.memory.append(Transition(*args))\n",
        "\n",
        "    def sample(self, batch_size):\n",
        "        return random.sample(self.memory, batch_size)\n",
        "\n",
        "    def __len__(self):\n",
        "        return len(self.memory)"
      ]
    },
    {
      "cell_type": "markdown",
      "metadata": {},
      "source": [
        "## Training Algorithm\n",
        "\n",
        "학습 알고리즘으로 Double DQN과 Dueling DQN을 결합한 알고리즘을 사용하였다."
      ]
    },
    {
      "cell_type": "markdown",
      "metadata": {
        "id": "Ehb2xrKNy0gh"
      },
      "source": [
        "### Double DQN 알고리즘\n",
        "\n",
        "Double DQN은 2개의 신경망이 필요하다. 원래 DQN 알고리즘에서 사용되던 Deep Q Network에 Target Network가 추가되었다.  \n",
        "Double DQN에서 target $Y_t^{\\text{DoubleDQN}}$은 아래와 같다. 아래 현재 $S_t$에서의 추정치와 target과의 손실을 최소화하는 방향으로 학습한다.\n",
        "\n",
        "$$\n",
        "Y_t^{\\text{DoubleDQN}} \\doteq R_{t+1} + \\gamma Q(S_{t+1}, \\argmax_{a}Q(S_{t+1}, a ; \\theta_t), \\theta_t^-)\n",
        "$$\n",
        "\n",
        "$\\theta_t$는 policy network의 매개변수, $\\theta_t^-$는 target network의 매개변수이다. 즉, policy network에서 next state에서의 최적의 행동을 선택 후 이 행동의 action value $Q$를 target network에서 획득하는 구조이다. 구조 그림은 아래와 같다.\n",
        "\n",
        "![](https://i.imgur.com/qkO3sOc.jpg)\n",
        "\n",
        "policy network는 끊임없이 업데이트되지만 target network는 일정 주기마다 policy network의 신경망 매개변수를 복사한다. 이러한 구조는 기존 DQN 알고리즘에서 발생했던 action value의 과추정 문제를 개선해 준다고 알려져있다.\n",
        "\n",
        "> Reference: [Deep Reinforcement Learning with Double Q-learning](https://arxiv.org/abs/1509.06461)"
      ]
    },
    {
      "cell_type": "markdown",
      "metadata": {},
      "source": [
        "### Dueling DQN 알고리즘\n",
        "\n",
        "Dueling DQN (DDQN)은 기존 DQN에 *Advantage*라는 개념을 추가해 network를 2개의 독립적인 value stream과 advantage stream으로 나누어 action value $Q$를 추정하는 방법이다. Advantage는 다른 action을 취했을 때보다 얼마나 더 좋은지를 나타내는 함수이다.\n",
        "\n",
        "$$\n",
        "Q(s, a; \\theta, \\alpha, \\beta) = V(s; \\theta, \\beta) + \\Big( A(s, a; \\theta, \\alpha) - \\dfrac{1}{\\mathcal{\\vert A \\vert}}\\sum_{a'}A(s, a; \\theta, \\alpha) \\Big)\n",
        "$$\n",
        "\n",
        " 이 방식의 장점은 agent가 각 state마다 action을 해보면서 결과를 학습하지 않아도 어떤 state가 valuable한 지 알 수 있다고 알려져있다. 따라서 기존 DQN보다 훨씬 효율적인 연산과 퀄리티 있는 학습이 가능해진다. 구조는 아래와 같다.\n",
        "\n",
        "![](https://miro.medium.com/max/1400/1*GKZ-cS0mCdXMOO_bfBlN0Q.png)\n",
        "\n",
        "> Reference: [Dueling Network Architectures for Deep Reinforcement Learning](https://arxiv.org/abs/1511.06581)"
      ]
    },
    {
      "cell_type": "markdown",
      "metadata": {},
      "source": [
        "### DDQN class\n",
        "\n",
        "convolution layer가 존재하는 Dueling DQN class이다."
      ]
    },
    {
      "cell_type": "code",
      "execution_count": 4,
      "metadata": {
        "id": "-AW6mOpjy0gi"
      },
      "outputs": [],
      "source": [
        "class DDQN(nn.Module):\n",
        "\n",
        "    def __init__(self, h, w, outputs):\n",
        "        super(DDQN, self).__init__()\n",
        "        \n",
        "        def conv2d_size_out(size, kernel_size = 5, stride = 2):\n",
        "            return (size - (kernel_size - 1) - 1) // stride  + 1\n",
        "        convw = conv2d_size_out(conv2d_size_out(conv2d_size_out(w)))\n",
        "        convh = conv2d_size_out(conv2d_size_out(conv2d_size_out(h)))\n",
        "        linear_input_size = convw * convh * 32\n",
        "        \n",
        "        self.conv_layer = nn.Sequential(\n",
        "            nn.Conv2d(3, 16, kernel_size=5, stride=2),\n",
        "            nn.BatchNorm2d(16),\n",
        "            nn.ReLU(),\n",
        "            nn.Conv2d(16, 32, kernel_size=5, stride=2),\n",
        "            nn.BatchNorm2d(32),\n",
        "            nn.ReLU(),\n",
        "            nn.Conv2d(32, 32, kernel_size=5, stride=2),\n",
        "            nn.BatchNorm2d(32),\n",
        "            nn.ReLU()\n",
        "        )\n",
        "        \n",
        "        self.advantage = nn.Sequential(\n",
        "            nn.Linear(linear_input_size, 64),\n",
        "            nn.ReLU(),\n",
        "            nn.Linear(64, outputs)\n",
        "        )\n",
        "        \n",
        "        self.value = nn.Sequential(\n",
        "            nn.Linear(linear_input_size, 64),\n",
        "            nn.ReLU(),\n",
        "            nn.Linear(64, 1)\n",
        "        )\n",
        "\n",
        "    def forward(self, x):\n",
        "        x = x.to(device)\n",
        "        x = self.conv_layer(x)\n",
        "        x = x.view(x.size(0), -1) # flatten\n",
        "        advantage = self.advantage(x)\n",
        "        value = self.value(x)\n",
        "        \n",
        "        return value + (advantage - advantage.mean())"
      ]
    },
    {
      "cell_type": "markdown",
      "metadata": {
        "id": "2EHhdKKjy0gi"
      },
      "source": [
        "아래 코드는 `torchvision`을 활용해 렌더링 된 이미지를 추출하고 처리하는 유틸리티이다."
      ]
    },
    {
      "cell_type": "code",
      "execution_count": 5,
      "metadata": {
        "id": "YMVehi_Zy0gj"
      },
      "outputs": [
        {
          "name": "stderr",
          "output_type": "stream",
          "text": [
            "c:\\Users\\slem1\\anaconda3\\envs\\ml-agents-release19\\lib\\site-packages\\torchvision\\transforms\\transforms.py:333: UserWarning: Argument interpolation should be of type InterpolationMode instead of int. Please, use InterpolationMode enum.\n",
            "  \"Argument interpolation should be of type InterpolationMode instead of int. \"\n"
          ]
        },
        {
          "data": {
            "image/png": "[encoded data removed]",
            "text/plain": [
              "<Figure size 432x288 with 1 Axes>"
            ]
          },
          "metadata": {
            "needs_background": "light"
          },
          "output_type": "display_data"
        }
      ],
      "source": [
        "resize = T.Compose([T.ToPILImage(),\n",
        "                    T.Resize(40, interpolation=Image.CUBIC),\n",
        "                    T.ToTensor()])\n",
        "\n",
        "\n",
        "def get_cart_location(screen_width):\n",
        "    world_width = env.x_threshold * 2\n",
        "    scale = screen_width / world_width\n",
        "    return int(env.state[0] * scale + screen_width / 2.0)  # MIDDLE OF CART\n",
        "\n",
        "def get_screen():\n",
        "    # gym이 요청한 화면은 400x600x3 이지만, 가끔 800x1200x3 처럼 큰 경우가 있습니다.\n",
        "    # 이것을 Torch order (CHW)로 변환한다.\n",
        "    screen = env.render(mode='rgb_array').transpose((2, 0, 1))\n",
        "    # 카트는 아래쪽에 있으므로 화면의 상단과 하단을 제거하십시오.\n",
        "    _, screen_height, screen_width = screen.shape\n",
        "    screen = screen[:, int(screen_height*0.4):int(screen_height * 0.8)]\n",
        "    view_width = int(screen_width * 0.6)\n",
        "    cart_location = get_cart_location(screen_width)\n",
        "    if cart_location < view_width // 2:\n",
        "        slice_range = slice(view_width)\n",
        "    elif cart_location > (screen_width - view_width // 2):\n",
        "        slice_range = slice(-view_width, None)\n",
        "    else:\n",
        "        slice_range = slice(cart_location - view_width // 2,\n",
        "                            cart_location + view_width // 2)\n",
        "    # 카트를 중심으로 정사각형 이미지가 되도록 가장자리를 제거하십시오.\n",
        "    screen = screen[:, :, slice_range]\n",
        "    # float 으로 변환하고,  rescale 하고, torch tensor 로 변환하십시오.\n",
        "    # (이것은 복사를 필요로하지 않습니다)\n",
        "    screen = np.ascontiguousarray(screen, dtype=np.float32) / 255\n",
        "    screen = torch.from_numpy(screen)\n",
        "    # 크기를 수정하고 배치 차원(BCHW)을 추가하십시오.\n",
        "    return resize(screen).unsqueeze(0)\n",
        "\n",
        "\n",
        "env.reset()\n",
        "plt.figure()\n",
        "plt.imshow(get_screen().cpu().squeeze(0).permute(1, 2, 0).numpy(),\n",
        "           interpolation='none')\n",
        "plt.title('Example extracted screen')\n",
        "plt.show()"
      ]
    },
    {
      "cell_type": "markdown",
      "metadata": {
        "id": "suS7vyZPy0gj"
      },
      "source": [
        "## Training\n",
        "\n",
        "학습에 필요한 하이퍼 파라미터와 유틸리티를 정의한다.  \n",
        "Double DDQN을 사용하기 위해 `policy_net`과 `target_net` 변수에 `DDQN` class를 instantiate하였다."
      ]
    },
    {
      "cell_type": "code",
      "execution_count": 6,
      "metadata": {
        "id": "DvIY-uW3y0gj"
      },
      "outputs": [],
      "source": [
        "BATCH_SIZE = 128\n",
        "GAMMA = 0.99\n",
        "EPS_START = 0.9\n",
        "EPS_END = 0.05\n",
        "EPS_DECAY = 200\n",
        "TARGET_UPDATE = 10\n",
        "LEARNING_RATE = 0.001\n",
        "\n",
        "init_screen = get_screen()\n",
        "_, _, screen_height, screen_width = init_screen.shape\n",
        "\n",
        "# action 개수\n",
        "n_actions = env.action_space.n\n",
        "\n",
        "# Double DDQN\n",
        "policy_net = DDQN(screen_height, screen_width, n_actions).to(device)\n",
        "target_net = DDQN(screen_height, screen_width, n_actions).to(device)\n",
        "target_net.load_state_dict(policy_net.state_dict())\n",
        "target_net.eval()\n",
        "\n",
        "optimizer = optim.Adam(policy_net.parameters(), lr=LEARNING_RATE)\n",
        "memory = ReplayBuffer(10000)"
      ]
    },
    {
      "cell_type": "code",
      "execution_count": 7,
      "metadata": {},
      "outputs": [
        {
          "name": "stdout",
          "output_type": "stream",
          "text": [
            "----------------------------------------------------------------\n",
            "        Layer (type)               Output Shape         Param #\n",
            "================================================================\n",
            "            Conv2d-1           [-1, 16, 18, 43]           1,216\n",
            "       BatchNorm2d-2           [-1, 16, 18, 43]              32\n",
            "              ReLU-3           [-1, 16, 18, 43]               0\n",
            "            Conv2d-4            [-1, 32, 7, 20]          12,832\n",
            "       BatchNorm2d-5            [-1, 32, 7, 20]              64\n",
            "              ReLU-6            [-1, 32, 7, 20]               0\n",
            "            Conv2d-7             [-1, 32, 2, 8]          25,632\n",
            "       BatchNorm2d-8             [-1, 32, 2, 8]              64\n",
            "              ReLU-9             [-1, 32, 2, 8]               0\n",
            "           Linear-10                   [-1, 64]          32,832\n",
            "             ReLU-11                   [-1, 64]               0\n",
            "           Linear-12                    [-1, 2]             130\n",
            "           Linear-13                   [-1, 64]          32,832\n",
            "             ReLU-14                   [-1, 64]               0\n",
            "           Linear-15                    [-1, 1]              65\n",
            "================================================================\n",
            "Total params: 105,699\n",
            "Trainable params: 105,699\n",
            "Non-trainable params: 0\n",
            "----------------------------------------------------------------\n",
            "Input size (MB): 0.04\n",
            "Forward/backward pass size (MB): 0.40\n",
            "Params size (MB): 0.40\n",
            "Estimated Total Size (MB): 0.84\n",
            "----------------------------------------------------------------\n"
          ]
        }
      ],
      "source": [
        "from torchsummary import summary\n",
        "\n",
        "summary(policy_net, (3, screen_height, screen_width), device=\"cuda\" if torch.cuda.is_available() else \"cpu\")"
      ]
    },
    {
      "cell_type": "code",
      "execution_count": null,
      "metadata": {},
      "outputs": [],
      "source": [
        "steps_done = 0\n",
        "\n",
        "epsilon_arr = []\n",
        "\n",
        "# epsilon-greedy policy\n",
        "def select_action(state):\n",
        "    global steps_done\n",
        "    sample = random.random()\n",
        "    eps_threshold = EPS_END + (EPS_START - EPS_END) * \\\n",
        "        math.exp(-1. * steps_done / EPS_DECAY)\n",
        "    epsilon_arr.append(eps_threshold)\n",
        "    steps_done += 1\n",
        "    if sample > eps_threshold:\n",
        "        with torch.no_grad():\n",
        "            return policy_net(state).max(1)[1].view(1, 1)\n",
        "    else:\n",
        "        return torch.tensor([[random.randrange(n_actions)]], device=device, dtype=torch.long)\n",
        "\n",
        "\n",
        "episode_durations = []\n",
        "\n",
        "def plot_durations():\n",
        "    if is_ipython:\n",
        "        display.clear_output(wait=True)\n",
        "        display.display(plt.gcf())\n",
        "    \n",
        "    plt.figure(2)\n",
        "    plt.clf()\n",
        "    durations_t = torch.tensor(episode_durations, dtype=torch.float)\n",
        "    plt.title('Training...')\n",
        "    plt.xlabel('Episode')\n",
        "    plt.ylabel('Duration')\n",
        "    plt.plot(durations_t.numpy())\n",
        "    # 100개의 에피소드 평균을 가져 와서 도표 그리기\n",
        "    if len(durations_t) >= 100:\n",
        "        means = durations_t.unfold(0, 100, 1).mean(1).view(-1)\n",
        "        means = torch.cat((torch.zeros(99), means))\n",
        "        plt.plot(means.numpy())\n",
        "    plt.show()\n",
        "    \n",
        "def plot_epsiolon():\n",
        "    plt.title(\"Epsilon change\")\n",
        "    plt.xlabel(\"Epsiode\")\n",
        "    plt.ylabel(\"Epsilon\")\n",
        "    plt.plot(epsilon_arr)\n",
        "    plt.show()"
      ]
    },
    {
      "cell_type": "markdown",
      "metadata": {
        "id": "vGm2xcaky0gk"
      },
      "source": [
        "### 모델 학습\n",
        "\n",
        "최종적으로 모델 학습을 위한 코드.\n",
        "\n",
        "먼저 Replay Buffer로부터 배치를 샘플링하고 모든 Tensor를 하나로 연결하고\n",
        "$Q(s_t, a_t)$ 와  $V(s_{t+1}) = \\max_a Q(s_{t+1}, a)$ 를 계산하고\n",
        "그것들을 손실로 합칩니다. 우리가 설정한 정의에 따르면 만약 $s$ 가\n",
        "마지막 상태라면 $V(s) = 0$ 입니다.\n",
        "또한 안정성 추가 위한 $V(s_{t+1})$ 계산을 위해 목표 네트워크를 사용합니다.\n",
        "목표 네트워크는 대부분의 시간 동결 상태로 유지되지만, 가끔 정책\n",
        "네트워크의 가중치로 업데이트됩니다.\n",
        "이것은 대개 설정한 스텝 숫자이지만 단순화를 위해 에피소드를 사용합니다."
      ]
    },
    {
      "cell_type": "code",
      "execution_count": 63,
      "metadata": {
        "id": "L97dmY_Ly0gk"
      },
      "outputs": [],
      "source": [
        "loss_arr = []\n",
        "\n",
        "def optimize_model():\n",
        "    if len(memory) < BATCH_SIZE:\n",
        "        return\n",
        "    transitions = memory.sample(BATCH_SIZE)\n",
        "    batch = Transition(*zip(*transitions))\n",
        "\n",
        "    # 최종이 아닌 상태의 마스크를 계산하고 배치 요소를 연결함.\n",
        "    non_final_mask = torch.tensor(tuple(map(lambda s: s is not None,\n",
        "                                          batch.next_state)), device=device, dtype=torch.bool)\n",
        "    non_final_next_states = torch.cat([s for s in batch.next_state\n",
        "                                                if s is not None])\n",
        "    state_batch = torch.cat(batch.state)\n",
        "    action_batch = torch.cat(batch.action)\n",
        "    reward_batch = torch.cat(batch.reward)\n",
        "\n",
        "    # Q(s_t, a) 계산 - 현재 state s_t에서 모든 action value를 모델을 통해 계산하고, 선택된 action에 해당하는 값만 가져옴.\n",
        "    state_action_values = policy_net(state_batch).gather(1, action_batch)\n",
        "\n",
        "    next_state_values = torch.zeros(BATCH_SIZE, device=device)\n",
        "    # policy network에서 best action 선택.\n",
        "    next_best_actions = policy_net(non_final_next_states).argmax(1).unsqueeze(1)\n",
        "    # target network에서 policy network에서 획득한 best action에 해당하는 action value를 획득.\n",
        "    next_state_values[non_final_mask] = target_net(non_final_next_states).gather(1, next_best_actions).squeeze().detach()\n",
        "    # 기대 Q 값 계산\n",
        "    expected_state_action_values = (next_state_values * GAMMA) + reward_batch\n",
        "\n",
        "    # Huber 손실 계산\n",
        "    criterion = nn.SmoothL1Loss()\n",
        "    loss = criterion(state_action_values, expected_state_action_values.unsqueeze(1))\n",
        "\n",
        "    # 모델 최적화\n",
        "    optimizer.zero_grad()\n",
        "    loss.backward()\n",
        "    for param in policy_net.parameters():\n",
        "        param.grad.data.clamp_(-1, 1)\n",
        "    optimizer.step()\n",
        "    \n",
        "    loss_arr.append(loss.cpu().detach().numpy())\n",
        "    \n",
        "def plot_loss():\n",
        "    plt.title(\"Loss change\")\n",
        "    plt.xlabel(\"Epsiode\")\n",
        "    plt.ylabel(\"Loss\")\n",
        "    plt.plot(loss_arr)\n",
        "    plt.show()"
      ]
    },
    {
      "cell_type": "code",
      "execution_count": 64,
      "metadata": {
        "id": "Fx5Rns1iy0gk"
      },
      "outputs": [
        {
          "data": {
            "text/plain": [
              "<Figure size 432x288 with 0 Axes>"
            ]
          },
          "metadata": {},
          "output_type": "display_data"
        },
        {
          "data": {
            "text/plain": [
              "<Figure size 432x288 with 0 Axes>"
            ]
          },
          "metadata": {},
          "output_type": "display_data"
        },
        {
          "data": {
            "image/png": "[encoded data removed]",
            "text/plain": [
              "<Figure size 432x288 with 1 Axes>"
            ]
          },
          "metadata": {
            "needs_background": "light"
          },
          "output_type": "display_data"
        }
      ],
      "source": [
        "num_episodes = 1000\n",
        "try:\n",
        "    for i_episode in range(num_episodes):\n",
        "        # 환경과 상태 초기화\n",
        "        env.reset()\n",
        "        last_screen = get_screen()\n",
        "        current_screen = get_screen()\n",
        "        state = current_screen - last_screen\n",
        "        \n",
        "        for t in count():\n",
        "            # 행동 선택과 수행\n",
        "            action = select_action(state)\n",
        "            _, reward, done, _ = env.step(action.item())\n",
        "            reward = torch.tensor([reward], device=device)\n",
        "\n",
        "            # 새로운 상태 관찰\n",
        "            last_screen = current_screen\n",
        "            current_screen = get_screen()\n",
        "            if not done:\n",
        "                next_state = current_screen - last_screen\n",
        "            else:\n",
        "                next_state = None\n",
        "\n",
        "            # 메모리에 변이 저장\n",
        "            memory.push(state, action, next_state, reward)\n",
        "\n",
        "            # 다음 상태로 이동\n",
        "            state = next_state\n",
        "            \n",
        "            env.render()\n",
        "\n",
        "            # policy network 업데이트\n",
        "            optimize_model()\n",
        "            if done:\n",
        "                episode_durations.append(t + 1)\n",
        "                plot_durations()\n",
        "                break\n",
        "        # target network 업데이트, 모든 weight 복사\n",
        "        if i_episode % TARGET_UPDATE == 0:\n",
        "            target_net.load_state_dict(policy_net.state_dict())\n",
        "except KeyboardInterrupt:\n",
        "    print(\"\\nTraining interrupted\")\n",
        "finally:\n",
        "    env.render()\n",
        "    env.close()\n",
        "    plt.ioff()\n",
        "    plt.show()\n",
        "    plot_loss()\n",
        "    plot_epsiolon()"
      ]
    },
    {
      "cell_type": "markdown",
      "metadata": {},
      "source": [
        "### Problem\n",
        "\n",
        "위 결과 score는 사실 그다지 높지 않다. 그 이유는 이미지 기반 학습을 사용했기 때문이다. Reinforcement Learning (RL)에서 이미지 기반 학습은 굉장히 어려운 주제이다. 일반적인 state 정보와는 다르게 이미지는 굉장히  sensory한 정보여서 학습이 잘 되지 않는다. 아래는 이에 대한 자료이다.\n",
        "\n",
        "![](https://miro.medium.com/max/1400/0*RGbjPYg8axVQQ7Au)\n",
        "\n",
        "따라서 이미지 기반 학습 시 이미지에 대한 또다른 전처리가 필요하다. 대표적으로 sensory한 image space를 feature space로 인코딩하는 방식을 생각해볼 수 있다."
      ]
    }
  ],
  "metadata": {
    "colab": {
      "name": "reinforcement_q_learning.ipynb",
      "provenance": []
    },
    "kernelspec": {
      "display_name": "Python 3.7.13 ('ml-agents-release19')",
      "language": "python",
      "name": "python3"
    },
    "language_info": {
      "codemirror_mode": {
        "name": "ipython",
        "version": 3
      },
      "file_extension": ".py",
      "mimetype": "text/x-python",
      "name": "python",
      "nbconvert_exporter": "python",
      "pygments_lexer": "ipython3",
      "version": "3.7.13"
    },
    "vscode": {
      "interpreter": {
        "hash": "d5dbe8f243ba5a05972d4d7a4af46fc4731b58f23166d979b2386be3d6d0b623"
      }
    }
  },
  "nbformat": 4,
  "nbformat_minor": 0
}
