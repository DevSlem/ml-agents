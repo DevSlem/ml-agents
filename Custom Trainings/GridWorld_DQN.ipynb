{
 "cells": [
  {
   "cell_type": "markdown",
   "metadata": {},
   "source": [
    "# ML-Agents Q-Learning with GridWorld\n",
    "\n",
    "Q-Learning 모델로 ML-Agents의 GridWorld 환경에서 학습  \n",
    "[Q-Learning with a UnityEnvironment](https://colab.research.google.com/github/Unity-Technologies/ml-agents/blob/release_19_docs/colab/Colab_UnityEnvironment_2_Train.ipynb)을 클론 코딩함으로써 Unity ML-Agents python low level api와 Deep Reinforcement Learning (DRL)에 대한 실습을 진행함.\n",
    "\n",
    "\n",
    "<img src=\"https://github.com/Unity-Technologies/ml-agents/blob/release_19_docs/docs/images/gridworld.png?raw=true\" align=\"middle\" width=\"435\"/>"
   ]
  },
  {
   "cell_type": "markdown",
   "metadata": {},
   "source": [
    "## Train the GridWorld Environment with Q-Learning"
   ]
  },
  {
   "cell_type": "markdown",
   "metadata": {},
   "source": [
    "### What is the  GridWorld Environment"
   ]
  },
  {
   "cell_type": "markdown",
   "metadata": {},
   "source": [
    "[GridWorld](https://github.com/Unity-Technologies/ml-agents/blob/release_19_docs/docs/Learning-Environment-Examples.md#gridworld) Environment는 간단한 Unity Visual environment이다. Agent는 파란색 사각형이며 3x3 grid내에서 red `x`를 피하면서 green `+`에 도달하는것을 목표로 한다.\n",
    "\n",
    "observation은 image로 grid의 위에서 카메라에 의해 획득된다.\n",
    "\n",
    "Action은 5개 중 하나이다.\n",
    "\n",
    "* Do not move\n",
    "* Move up\n",
    "* Move down\n",
    "* Move right\n",
    "* Move left\n",
    "\n",
    "Agent는 green `+`에 도달하면 1.0의 reward를 획득한다. red `x`에 도달 시 -1의 패널티를 획득한다. 또한 각 step마다 -0.01의 패널티가 부여된다.\n",
    "\n",
    "> **Note** There are 9 Agents, each in their own grid, at once in the environment. This allows for faster data collection."
   ]
  },
  {
   "cell_type": "markdown",
   "metadata": {},
   "source": [
    "### The Q-Learning Algorithm"
   ]
  },
  {
   "cell_type": "markdown",
   "metadata": {},
   "source": [
    "매우 간단한 Q-Learning 알고리즘으로 [pytorch](https://pytorch.org/)를 사용하였다.  \n",
    "\n",
    "아래는 매우 간단한 신경망이다."
   ]
  },
  {
   "cell_type": "code",
   "execution_count": 2,
   "metadata": {},
   "outputs": [],
   "source": [
    "import torch\n",
    "from typing import Tuple\n",
    "from math import floor\n",
    "from torch.nn import Parameter\n",
    "\n",
    "class VisualQNetwork(torch.nn.Module):\n",
    "    \"\"\"image를 학습하는 매우 간단한 visual neural\"\"\"\n",
    "    \n",
    "    def __init__(self, input_shape: Tuple[int, int, int], encoding_size: int, output_size: int):\n",
    "        \"\"\"image batch (3 dimensional tensors)를 입력으로 사용하는 neural network를 생성한다.\n",
    "\n",
    "        Args:\n",
    "            input_shape (Tuple[int, int, int]): channel, height, width\n",
    "            encoding_size (int): fully connected layer의 encoding size\n",
    "            output_size (int): ouput size\n",
    "        \"\"\"\n",
    "        \n",
    "        super(VisualQNetwork, self).__init__()\n",
    "        \n",
    "        height = input_shape[1]\n",
    "        width = input_shape[2]\n",
    "        initial_channels = input_shape[0]\n",
    "        conv_1_hw = self.conv_output_shape((height, width), 8, 4)\n",
    "        conv_2_hw = self.conv_output_shape(conv_1_hw, 4, 2)\n",
    "        \n",
    "        self.final_flat = conv_2_hw[0] * conv_2_hw[1] * 32 # flatten된 conv2 ouput tensor의 size: height * width * out_channels\n",
    "        self.conv1 = torch.nn.Conv2d(initial_channels, 16, [8, 8], [4, 4])\n",
    "        self.conv2 = torch.nn.Conv2d(16, 32, [4, 4], [2, 2])\n",
    "        self.dense1 = torch.nn.Linear(self.final_flat, encoding_size)\n",
    "        self.dense2 = torch.nn.Linear(encoding_size, output_size)\n",
    "        \n",
    "    def forward(self, visual_obs: torch.Tensor):\n",
    "        conv_1 = torch.relu(self.conv1(visual_obs))\n",
    "        conv_2 = torch.relu(self.conv2(conv_1))\n",
    "        hidden = self.dense1(conv_2.reshape([-1, self.final_flat])) # flatten and input to the fully connected layer\n",
    "        hidden = torch.relu(hidden) # activation function\n",
    "        hidden = self.dense2(hidden)\n",
    "        return hidden\n",
    "        \n",
    "    \n",
    "    @staticmethod\n",
    "    def conv_output_shape(h_w: Tuple[int, int], kernel_size: int = 1, stride: int = 1, pad: int = 0, dilation: int = 1):\n",
    "        \"\"\"convolution layer의 출력의 height과 width를 반환한다.\"\"\"\n",
    "        \n",
    "        h = floor(\n",
    "            ((h_w[0] + (2 * pad) - (dilation * (kernel_size - 1)) - 1) / stride) + 1\n",
    "        )\n",
    "        w = floor(\n",
    "            ((h_w[1] + (2 * pad) - (dilation * (kernel_size - 1)) - 1) / stride) + 1\n",
    "        )\n",
    "        return h, w\n",
    "        "
   ]
  },
  {
   "cell_type": "markdown",
   "metadata": {},
   "source": [
    "Q-Learning을 학습시키는데 사용할 data를 저장하기 위한 data type 정의. ReplayBuffer에 쓰임"
   ]
  },
  {
   "cell_type": "code",
   "execution_count": 3,
   "metadata": {},
   "outputs": [],
   "source": [
    "import numpy as np\n",
    "from typing import NamedTuple, List\n",
    "\n",
    "class Experience(NamedTuple):\n",
    "    \"\"\"Agent transition data를 포함하는 experience\"\"\"\n",
    "    \n",
    "    obs: np.ndarray\n",
    "    action: np.ndarray\n",
    "    reward: float\n",
    "    done: bool\n",
    "    next_obs: np.ndarray\n",
    "    \n",
    "# A Trajectory is an ordered sequence of Experiences\n",
    "Trajectory = List[Experience]\n",
    "\n",
    "# A Buffer is an unordered list of Experiences from multiple Trajectories\n",
    "Buffer = List[Experience]"
   ]
  },
  {
   "cell_type": "markdown",
   "metadata": {},
   "source": [
    "trainer class를 정의함. trainer class는 policy를 따르는 environment로부터 data를 모은 뒤 Q-Network를 학습함."
   ]
  },
  {
   "cell_type": "code",
   "execution_count": 4,
   "metadata": {},
   "outputs": [],
   "source": [
    "from mlagents_envs.environment import ActionTuple, BaseEnv\n",
    "from typing import Dict\n",
    "import random\n",
    "\n",
    "class Trainer:\n",
    "    \n",
    "    @staticmethod\n",
    "    def generate_trajectories(env: BaseEnv, q_net: VisualQNetwork, buffer_size: int, epsilon: float):\n",
    "        \"\"\"Q-Network로부터 획득된 policy와 함께 주어진 Unity Environment를 실행해 획득된 experience들의 buffer를 생성한다.\n",
    "\n",
    "        Args:\n",
    "            env (BaseEnv): The UnityEnvironment used.\n",
    "            q_net (VisualQNetwork): The Q-Network used to collect the data.\n",
    "            buffer_size (int): The minimum size of the buffer this method will return.\n",
    "            epsilon (float): Will add a random normal variable with standard deviation.\n",
    "        \n",
    "        Returns:\n",
    "            a Tuple containing the created buffer and the average cumulative the Agents obtained.\n",
    "        \"\"\"\n",
    "        \n",
    "        buffer: Buffer = []\n",
    "        \n",
    "        # Reset the environment\n",
    "        env.reset()\n",
    "        # Environment의 Behavior Name을 저장함\n",
    "        behavior_name = list(env.behavior_specs)[0]\n",
    "        # Enviornment의 Behavior Specs를 저장함\n",
    "        spec = env.behavior_specs[behavior_name]\n",
    "        \n",
    "        # AgentID에서 Trajectories로의 Mapping을 생성. 각 Agent에 대한 trajectories를 생성하기 위해서임.\n",
    "        dict_trajectories_from_agent: Dict[int, Trajectory] = {}\n",
    "        # AgentId에서 Agent의 last observation으로의 Mapping을 생성.\n",
    "        dict_last_obs_from_agent: Dict[int, np.ndarray] = {}\n",
    "        # AgentID에서 Agent의 last action으로의 Mapping을 생성.\n",
    "        dict_last_action_from_agent: Dict[int, np.ndarray] = {}\n",
    "        # AgentID에서 cumulative reward로의 Mapping을 생성.\n",
    "        dict_cumulative_reward_from_agent: Dict[int, float] = {}\n",
    "        # 지금까지 획득된 comulative reward를 저장하는 list 생성.\n",
    "        cumulative_rewards: List[float] = []\n",
    "        \n",
    "        # buffer에 데이터가 충분해질때까지 반복\n",
    "        while len(buffer) < buffer_size:\n",
    "            # Agent의 Decision Step과 Terminal Step 획득\n",
    "            decision_steps, terminal_steps = env.get_steps(behavior_name)\n",
    "            \n",
    "            # tensor를 NHWC에서 NCHW 형태로 변경. 즉, 이미지 tensor 채널을 PyTorch 입력에 맞게 변경함.\n",
    "            order = (0, 3, 1, 2)\n",
    "            decision_steps.obs[0] = np.transpose(decision_steps.obs[0], order)\n",
    "            terminal_steps.obs[0] = np.transpose(terminal_steps.obs[0], order)\n",
    "            \n",
    "            # Terminal Step을 가진 모든 Agent에 대해 반복\n",
    "            for agent_id_terminated in terminal_steps:\n",
    "                # Agent가 terminated됬기 때문에 last experience를 생성\n",
    "                last_experience = Experience(\n",
    "                    obs=dict_last_obs_from_agent[agent_id_terminated].copy(),\n",
    "                    reward=terminal_steps[agent_id_terminated].reward,\n",
    "                    done=not terminal_steps[agent_id_terminated].interrupted,\n",
    "                    action=dict_last_action_from_agent[agent_id_terminated].copy(),\n",
    "                    next_obs=terminal_steps[agent_id_terminated].obs[0]\n",
    "                )\n",
    "                \n",
    "                # trajectory가 끝났기 때문에 agent의 last observation과 action을 제거함\n",
    "                dict_last_obs_from_agent.pop(agent_id_terminated)\n",
    "                dict_last_action_from_agent.pop(agent_id_terminated)\n",
    "                # cumulative reward를 기록함\n",
    "                cumulative_reward = dict_cumulative_reward_from_agent.pop(agent_id_terminated) + terminal_steps[agent_id_terminated].reward\n",
    "                cumulative_rewards.append(cumulative_reward)\n",
    "                # Trajectory와 last experience를 buffer에 추가\n",
    "                buffer.extend(dict_trajectories_from_agent.pop(agent_id_terminated))\n",
    "                buffer.append(last_experience)\n",
    "            \n",
    "            # Decision Step을 가진 모든 Agent에 대해\n",
    "            for agent_id_decisions in decision_steps:\n",
    "                # Agent가 Trajectory가 없다면 생성\n",
    "                if agent_id_decisions not in dict_trajectories_from_agent:\n",
    "                    dict_trajectories_from_agent[agent_id_decisions] = []\n",
    "                    dict_cumulative_reward_from_agent[agent_id_decisions] = 0\n",
    "                    \n",
    "                # decision을 요청하는 Agent가 \"last observation\"을 가지고 있다면\n",
    "                if agent_id_decisions in dict_last_obs_from_agent:\n",
    "                    # last observation으로부터의 Experience와 Decision Step을 생성\n",
    "                    exp = Experience(\n",
    "                        obs=dict_last_obs_from_agent[agent_id_decisions].copy(),\n",
    "                        reward=decision_steps[agent_id_decisions].reward,\n",
    "                        done=False,\n",
    "                        action=dict_last_action_from_agent[agent_id_decisions].copy(),\n",
    "                        next_obs=decision_steps[agent_id_decisions].obs[0]\n",
    "                    )\n",
    "                    # Agent의 Trajectory와 cumulative reward를 Update\n",
    "                    dict_trajectories_from_agent[agent_id_decisions].append(exp)\n",
    "                    dict_cumulative_reward_from_agent[agent_id_decisions] += decision_steps[agent_id_decisions].reward\n",
    "                    \n",
    "                # 새로운 \"last observation\"을 저장함\n",
    "                dict_last_obs_from_agent[agent_id_decisions] = decision_steps[agent_id_decisions].obs[0]\n",
    "                \n",
    "            # decision을 요청한 모든 Agent에 대한 action을 생성\n",
    "            # observation에 대한 각 action value를 계산\n",
    "            actions_values = q_net(torch.from_numpy(decision_steps.obs[0])).detach().numpy()\n",
    "            # noise 추가\n",
    "            actions_values += epsilon * np.random.randn(actions_values.shape[0], actions_values.shape[1]).astype(np.float32)\n",
    "            # best action 선택\n",
    "            actions = np.argmax(actions_values, axis=1)\n",
    "            actions.resize((len(decision_steps), 1))\n",
    "            # 선택된 action들을 저장\n",
    "            for agent_index, agent_id in enumerate(decision_steps.agent_id):\n",
    "                dict_last_action_from_agent[agent_id] = actions[agent_index]\n",
    "            \n",
    "            # environment 내 action들을 설정\n",
    "            # Unity Environments는 ActionTuple instance를 사용함\n",
    "            action_tuple = ActionTuple()\n",
    "            action_tuple.add_discrete(actions)\n",
    "            env.set_actions(behavior_name, action_tuple)\n",
    "            # 다음 step으로 진행\n",
    "            env.step()\n",
    "        return buffer, np.mean(cumulative_rewards)\n",
    "    \n",
    "    @staticmethod\n",
    "    def update_q_net(q_net: VisualQNetwork, optimizer: torch.optim, buffer: Buffer, action_size: int):\n",
    "        \"\"\"제공된 optimizer와 buffer로 Q-Network를 update함.\"\"\"\n",
    "        \n",
    "        BATCH_SIZE = 1000\n",
    "        NUM_EPOCH = 3\n",
    "        GAMMA = 0.9\n",
    "        \n",
    "        batch_size = min(len(buffer), BATCH_SIZE)\n",
    "        random.shuffle(buffer)\n",
    "        # buffer를 batch size 단위로 split함.\n",
    "        batches = [buffer[batch_size * start : batch_size * (start + 1)] for start in range(int(len(buffer) / batch_size))]\n",
    "        \n",
    "        for _ in range(NUM_EPOCH):\n",
    "            for batch in batches:\n",
    "                # network에 입력될 Tensor를 생성\n",
    "                obs = torch.from_numpy(np.stack([ex.obs for ex in batch]))\n",
    "                reward = torch.from_numpy(np.array([ex.reward for ex in batch], dtype=np.float32).reshape(-1, 1))\n",
    "                done = torch.from_numpy(np.array([ex.done for ex in batch], dtype=np.float32).reshape(-1, 1))\n",
    "                action = torch.from_numpy(np.stack([ex.action for ex in batch]))\n",
    "                next_obs = torch.from_numpy(np.stack(ex.next_obs for ex in batch))\n",
    "                \n",
    "                # Q-Network를 update하기 위해 Bellman equation 사용\n",
    "                target = reward + (1.0 - done) * GAMMA * torch.max(q_net(next_obs).detach(), dim=1, keepdim=True).values\n",
    "                mask = torch.zeros((len(batch), action_size))\n",
    "                mask.scatter_(1, action, 1)\n",
    "                prediction = torch.sum(q_net(obs) * mask, dim=1, keepdim=True)\n",
    "                criterion = torch.nn.MSELoss()\n",
    "                loss = criterion(prediction, target)\n",
    "                \n",
    "                # backpropagation 실행\n",
    "                optimizer.zero_grad()\n",
    "                loss.backward()\n",
    "                optimizer.step()"
   ]
  },
  {
   "cell_type": "markdown",
   "metadata": {},
   "source": [
    "### Run Training"
   ]
  },
  {
   "cell_type": "code",
   "execution_count": 5,
   "metadata": {},
   "outputs": [
    {
     "name": "stdout",
     "output_type": "stream",
     "text": [
      "GridWorld environment created.\n"
     ]
    },
    {
     "name": "stderr",
     "output_type": "stream",
     "text": [
      "c:\\anaconda3\\envs\\ml-agents-release19\\lib\\site-packages\\IPython\\core\\interactiveshell.py:3457: FutureWarning: arrays to stack must be passed as a \"sequence\" type such as list or tuple. Support for non-sequence iterables such as generators is deprecated as of NumPy 1.16 and will raise an error in the future.\n",
      "  exec(code_obj, self.user_global_ns, self.user_ns)\n"
     ]
    },
    {
     "name": "stdout",
     "output_type": "stream",
     "text": [
      "Training step: 1 \treward: -0.7788888714793656\n",
      "Training step: 2 \treward: -0.999999980131785\n",
      "Training step: 3 \treward: -0.9999999776482582\n",
      "Training step: 4 \treward: -0.800999984331429\n",
      "Training step: 5 \treward: -0.999999980131785\n",
      "Training step: 6 \treward: -0.7788888689958386\n",
      "Training step: 7 \treward: -0.9999999776482582\n",
      "Training step: 8 \treward: -1.0022222023043368\n",
      "Training step: 9 \treward: -0.7844444269107448\n",
      "Training step: 10 \treward: -0.5633333182583252\n"
     ]
    },
    {
     "data": {
      "image/png": "[encoded data removed]",
      "text/plain": [
       "<Figure size 432x288 with 1 Axes>"
      ]
     },
     "metadata": {
      "needs_background": "light"
     },
     "output_type": "display_data"
    }
   ],
   "source": [
    "# -----------------\n",
    "# Unity Environment가 닫혀있지 않았을 경우를 위한 처리\n",
    "try:\n",
    "    env.close()\n",
    "except:\n",
    "    pass\n",
    "# -----------------\n",
    "\n",
    "from mlagents_envs.registry import default_registry\n",
    "from mlagents_envs.environment import UnityEnvironment\n",
    "import matplotlib.pyplot as plt\n",
    "import os\n",
    "%matplotlib inline\n",
    "\n",
    "# CridWorl Environment 생성\n",
    "\n",
    "env_name = \"GridWorld\"\n",
    "env_path = f\"{os.pardir}/Environments/{env_name}\"\n",
    "env = UnityEnvironment(env_path)\n",
    "print(\"GridWorld environment created.\")\n",
    "\n",
    "num_actions = 5\n",
    "learning_rate = 0.001\n",
    "\n",
    "try:\n",
    "    # Q-Network 생성\n",
    "    qnet = VisualQNetwork((3, 64, 84), 126, num_actions)\n",
    "    \n",
    "    experiences: Buffer = []\n",
    "    optim = torch.optim.Adam(qnet.parameters(), lr=learning_rate)\n",
    "    \n",
    "    cumulatvie_rewards: List[float] = []\n",
    "    \n",
    "    NUM_TRAINING_STEPS = 10 # The number of training steps that will be performed\n",
    "    NUM_NEW_EXP = 1000 # The number of experiences to collect per training step\n",
    "    BUFFER_SIZE = 10000 # The maximum size of the Buffer\n",
    "    \n",
    "    for n in range(NUM_TRAINING_STEPS):\n",
    "        new_exp, _ = Trainer.generate_trajectories(env, qnet, NUM_NEW_EXP, epsilon=0.1)\n",
    "        \n",
    "        if len(experiences) > BUFFER_SIZE:\n",
    "            experiences = experiences[:BUFFER_SIZE]\n",
    "        experiences.extend(new_exp)\n",
    "        Trainer.update_q_net(qnet, optim, experiences, num_actions)\n",
    "        _, rewards = Trainer.generate_trajectories(env, qnet, 100, epsilon=0)\n",
    "        cumulatvie_rewards.append(rewards)\n",
    "        print(f\"Training step: {n + 1} \\treward: {rewards}\")\n",
    "except KeyboardInterrupt:\n",
    "    print(\"\\nTraining interrupted, continue to next cell to save to save the model.\")\n",
    "finally:\n",
    "    env.close()\n",
    "    plt.plot(cumulatvie_rewards)"
   ]
  },
  {
   "cell_type": "markdown",
   "metadata": {},
   "source": [
    "### Export PyTorch Model to ONNX"
   ]
  },
  {
   "cell_type": "markdown",
   "metadata": {},
   "source": [
    "Unity ML-Agents의 inference에 사용할 model을 추출한다. 이를 위해 다음과 같은 추가적인 tensor가 필요하다.\n",
    "\n",
    "* All models need version_number\n",
    "* All models need memory_size\n",
    "* Models with **continuous outputs** need continuous_action_output_shape\n",
    "* Models with **discrete outputs** need discrete_action_output_shape and an additional mask input that matches the shape of the discrete outputs\n",
    "* The mask input must be connected to the outputs or it will be pruned on export, if mask values aren't being set they will be 1, so multiplying the discrete outputs by the mask will have no effect"
   ]
  },
  {
   "cell_type": "code",
   "execution_count": 6,
   "metadata": {},
   "outputs": [],
   "source": [
    "class WrapperNet(torch.nn.Module):\n",
    "    \n",
    "    def __init__(self, qnet: VisualQNetwork, discrete_ouput_sizes: List[int]):\n",
    "        \"\"\"\n",
    "        runtime inference에 의해 요구되는 여분의 상수들과 \n",
    "        더미 mask input들을 추가한 VisualQNetwork를 Wraping한다.\n",
    "        \"\"\"\n",
    "        \n",
    "        super(WrapperNet, self).__init__()\n",
    "        self.qnet = qnet\n",
    "        \n",
    "        # version_number\n",
    "        #   MLAgents1_0 = 2\n",
    "        #   MLAgents2_0 = 3\n",
    "        version_number = torch.Tensor([3])\n",
    "        self.version_number = Parameter(version_number, requires_grad=False)\n",
    "        \n",
    "        # memory_size\n",
    "        # TODO: document case where memory is not zero.\n",
    "        memory_size = torch.Tensor([0])\n",
    "        self.memory_size = Parameter(memory_size, requires_grad=False)\n",
    "        \n",
    "        # discrete_action_ouput_shape\n",
    "        output_shape = torch.Tensor([discrete_ouput_sizes])\n",
    "        self.discrete_shape = Parameter(output_shape, requires_grad=False)\n",
    "        \n",
    "    # discrete action이라면 input으로 같은 shape의 mask tensor를 받는다.\n",
    "    def forward(self, visual_obs: torch.Tensor, mask: torch.Tensor):\n",
    "        qnet_result = self.qnet(visual_obs)\n",
    "        # 제거되는 현상을 막기 위해 mask를 연결\n",
    "        # WriteDiscreteActionMask() 내에서 SetActionMask()를 호출하지 않을 경우 mask value는 1\n",
    "        qnet_result = torch.mul(qnet_result, mask)\n",
    "        action = torch.argmax(qnet_result, dim=1, keepdim=True)\n",
    "        return [action], self.discrete_shape, self.version_number, self.memory_size"
   ]
  },
  {
   "cell_type": "code",
   "execution_count": 7,
   "metadata": {},
   "outputs": [
    {
     "name": "stderr",
     "output_type": "stream",
     "text": [
      "c:\\anaconda3\\envs\\ml-agents-release19\\lib\\site-packages\\ipykernel_launcher.py:10: UserWarning: Creating a tensor from a list of numpy.ndarrays is extremely slow. Please consider converting the list to a single numpy.ndarray with numpy.array() before converting to a tensor. (Triggered internally at  C:\\cb\\pytorch_1000000000000\\work\\torch\\csrc\\utils\\tensor_new.cpp:210.)\n",
      "  # Remove the CWD from sys.path while we load stuff.\n"
     ]
    }
   ],
   "source": [
    "from devslem.utility import create_dir, add_datetime_suffix\n",
    "\n",
    "dir = f\"{os.pardir}/results/{env_name}/\"\n",
    "file_name = add_datetime_suffix(env_name)\n",
    "\n",
    "create_dir(dir)\n",
    "    \n",
    "torch.onnx.export(\n",
    "    WrapperNet(qnet, [num_actions]),\n",
    "    (torch.tensor([experiences[0].obs]), torch.ones(1, num_actions)),\n",
    "    f\"{dir}{file_name}\",\n",
    "    opset_version=9,\n",
    "    input_names=[\"obs_0\", \"action_masks\"],\n",
    "    output_names=[\"discrete_actions\", \"discrete_action_ouput_shape\", \"version_number\", \"memory_size\"],\n",
    "    dynamic_axes={\n",
    "        \"obs_0\": {0: \"batch\"},\n",
    "        \"action_masks\": {0: \"batch\"},\n",
    "        \"discrete_actions\": {0: \"batch\"},\n",
    "        \"discrete_action_ouput_shape\": {0: \"batch\"}\n",
    "    }\n",
    ")"
   ]
  },
  {
   "cell_type": "markdown",
   "metadata": {},
   "source": [
    "## References\n",
    "\n",
    "[1] [Q-Learning with a UnityEnvironment](https://colab.research.google.com/github/Unity-Technologies/ml-agents/blob/release_19_docs/colab/Colab_UnityEnvironment_2_Train.ipynb)"
   ]
  }
 ],
 "metadata": {
  "kernelspec": {
   "display_name": "Python 3.7.13 ('ml-agents-release19')",
   "language": "python",
   "name": "python3"
  },
  "language_info": {
   "codemirror_mode": {
    "name": "ipython",
    "version": 3
   },
   "file_extension": ".py",
   "mimetype": "text/x-python",
   "name": "python",
   "nbconvert_exporter": "python",
   "pygments_lexer": "ipython3",
   "version": "3.7.13"
  },
  "orig_nbformat": 4,
  "vscode": {
   "interpreter": {
    "hash": "27eb139b8c4ace6cccc6a8baf9472fbc25ad43a5e88c55378a6d95258c07d954"
   }
  }
 },
 "nbformat": 4,
 "nbformat_minor": 2
}
